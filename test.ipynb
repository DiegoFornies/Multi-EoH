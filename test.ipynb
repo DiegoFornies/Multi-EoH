{
 "cells": [
  {
   "cell_type": "code",
   "execution_count": 36,
   "metadata": {},
   "outputs": [
    {
     "name": "stdout",
     "output_type": "stream",
     "text": [
      "The autoreload extension is already loaded. To reload it, use:\n",
      "  %reload_ext autoreload\n"
     ]
    }
   ],
   "source": [
    "%load_ext autoreload\n",
    "%autoreload 2"
   ]
  },
  {
   "cell_type": "code",
   "execution_count": 37,
   "metadata": {},
   "outputs": [
    {
     "name": "stdout",
     "output_type": "stream",
     "text": [
      "start\n",
      "Esperando...\n",
      "Starting evolution 0...\n",
      "\n",
      "The heuristic does not ensure operation feasibility, as it assigns incorrect machines or processing times to operations.\n",
      "El heurístico 5 no es feasible, se elimina.\n",
      "\n",
      "The heuristic does not ensure operation feasibility, as it assigns incorrect machines or processing times to operations.\n",
      "El heurístico 7 no es feasible, se elimina.\n",
      "Traceback (most recent call last):\n",
      "  File \"c:\\Users\\dfornies\\Desktop\\Diego-TFG\\multi-objective-evolution\\nsga\\Individual.py\", line 32, in evaluate\n",
      "    solutions = self.get_solutions(instances)\n",
      "                ^^^^^^^^^^^^^^^^^^^^^^^^^^^^^\n",
      "  File \"c:\\Users\\dfornies\\Desktop\\Diego-TFG\\multi-objective-evolution\\nsga\\Individual.py\", line 71, in get_solutions\n",
      "    solutions[name] = heuristic(instance)\n",
      "                      ^^^^^^^^^^^^^^^^^^^\n",
      "  File \"<string>\", line 37, in heuristic\n",
      "KeyError: 3\n",
      "\n",
      "Esperando...\n",
      "\n",
      "The heuristic does not ensure operation feasibility, as it assigns incorrect machines or processing times to operations.\n",
      "El heurístico 16 no es feasible, se elimina.\n",
      "\n",
      "The heuristic does not ensure operation feasibility, as it assigns incorrect machines or processing times to operations.\n",
      "Traceback (most recent call last):\n",
      "  File \"c:\\Users\\dfornies\\Desktop\\Diego-TFG\\multi-objective-evolution\\nsga\\Individual.py\", line 32, in evaluate\n",
      "    solutions = self.get_solutions(instances)\n",
      "                ^^^^^^^^^^^^^^^^^^^^^^^^^^^^^\n",
      "  File \"c:\\Users\\dfornies\\Desktop\\Diego-TFG\\multi-objective-evolution\\nsga\\Individual.py\", line 71, in get_solutions\n",
      "    solutions[name] = heuristic(instance)\n",
      "                      ^^^^^^^^^^^^^^^^^^^\n",
      "  File \"<string>\", line 73, in heuristic\n",
      "ValueError: No machine available for job 3, operation 5\n",
      "\n",
      "\n",
      "The heuristic does not ensure operation feasibility, as it assigns incorrect machines or processing times to operations.\n",
      "El heurístico 20 no es feasible, se elimina.\n",
      "Evaluated.\n",
      "Selected.\n",
      "Reflected.\n",
      "Esperando...\n",
      "Crossover done.\n",
      "Mutation done.\n",
      "Starting evolution 1...\n",
      "Evaluated.\n",
      "Selected.\n",
      "Reflected.\n",
      "Esperando...\n",
      "Crossover done.\n",
      "Mutation done.\n",
      "Starting evolution 2...\n",
      "Evaluated.\n",
      "Selected.\n",
      "Esperando...\n",
      "Reflected.\n",
      "Crossover done.\n",
      "Mutation done.\n",
      "Starting evolution 3...\n",
      "Evaluated.\n",
      "Selected.\n",
      "Esperando...\n",
      "Reflected.\n",
      "Crossover done.\n",
      "Esperando...\n",
      "Mutation done.\n",
      "Starting evolution 4...\n",
      "Evaluated.\n",
      "Selected.\n",
      "Reflected.\n",
      "Esperando...\n",
      "Crossover done.\n",
      "Mutation done.\n"
     ]
    }
   ],
   "source": [
    "from nsga import NSGA_Evo_JSSP\n",
    "from nsga import Individual\n",
    "from reader import Reader\n",
    "\n",
    "NSGA = NSGA_Evo_JSSP('jssp', population_size=10, k = 3, iterations = 5)\n",
    "best = NSGA.start()"
   ]
  },
  {
   "cell_type": "code",
   "execution_count": 49,
   "metadata": {},
   "outputs": [],
   "source": [
    "best = NSGA.select_best_individuals()"
   ]
  },
  {
   "cell_type": "code",
   "execution_count": 50,
   "metadata": {},
   "outputs": [
    {
     "data": {
      "text/plain": [
       "[<nsga.Individual.Individual at 0x268969b7350>,\n",
       " <nsga.Individual.Individual at 0x2689695c290>,\n",
       " <nsga.Individual.Individual at 0x26896914e50>,\n",
       " <nsga.Individual.Individual at 0x26896a1b8d0>,\n",
       " <nsga.Individual.Individual at 0x268968e77d0>,\n",
       " <nsga.Individual.Individual at 0x268969b6250>,\n",
       " <nsga.Individual.Individual at 0x268968e4290>,\n",
       " <nsga.Individual.Individual at 0x268969b6150>,\n",
       " <nsga.Individual.Individual at 0x2689695ced0>,\n",
       " <nsga.Individual.Individual at 0x268969b6b10>,\n",
       " <nsga.Individual.Individual at 0x2689686fd10>,\n",
       " <nsga.Individual.Individual at 0x26896c24050>,\n",
       " <nsga.Individual.Individual at 0x26896c25a10>,\n",
       " <nsga.Individual.Individual at 0x26896c27f90>]"
      ]
     },
     "execution_count": 50,
     "metadata": {},
     "output_type": "execute_result"
    }
   ],
   "source": [
    "best"
   ]
  },
  {
   "cell_type": "code",
   "execution_count": 55,
   "metadata": {},
   "outputs": [],
   "source": [
    "import csv\n",
    "\n",
    "def read_scheduling_results(file_path):\n",
    "    results = []\n",
    "    \n",
    "    replacements = {\n",
    "        \"Overload\": \"Balance\",\n",
    "        \"overload\": \"Balance\",\n",
    "        \"Makespan\": \"Makespan\",\n",
    "        \"makespan\": \"Makespan\",\n",
    "        \"Separation\": \"Separation\",\n",
    "        \"separation\": \"Separation\"\n",
    "    }\n",
    "\n",
    "    with open(file_path, 'r') as file:\n",
    "        reader = csv.reader(file, delimiter=';')\n",
    "        headers = next(reader)\n",
    "        \n",
    "        # Normalizar los encabezados\n",
    "        headers = [replacements.get(h.strip(), h.strip()) for h in headers]\n",
    "        \n",
    "        for row in reader:\n",
    "            if len(row) == len(headers):\n",
    "                processed_row = {\n",
    "                    replacements.get(headers[i], headers[i]): replacements.get(row[i].strip(), row[i].strip())\n",
    "                    for i in range(len(headers))\n",
    "                }\n",
    "                results.append(processed_row)\n",
    "    \n",
    "    return results\n",
    "\n",
    "best = read_scheduling_results('results.txt')\n",
    "result = {}\n",
    "\n",
    "for element in best:\n",
    "    if element['instance'] not in result:\n",
    "        result[element['instance']] = {}\n",
    "    result[element['instance']][element['objective']] = element[element['objective']]"
   ]
  },
  {
   "cell_type": "code",
   "execution_count": null,
   "metadata": {},
   "outputs": [
    {
     "data": {
      "text/plain": [
       "{'mk00.txt': {'Separation': '0.0', 'Balance': '18.0', 'Makespan': '23.0'},\n",
       " 'mk01.txt': {'Separation': '0.0', 'Balance': '36.0', 'Makespan': '40.0'},\n",
       " 'mk02.txt': {'Separation': '0.0', 'Balance': '26.0', 'Makespan': '27.0'},\n",
       " 'mk03.txt': {'Separation': '27.0', 'Balance': '204.0', 'Makespan': '204.0'},\n",
       " 'mk04.txt': {'Separation': '0.0', 'Balance': '60.0', 'Makespan': '60.0'},\n",
       " 'mk05.txt': {'Separation': '0.0', 'Balance': '172.0', 'Makespan': '178.0'},\n",
       " 'mk06.txt': {'Separation': '24.0', 'Balance': '48.0', 'Makespan': '69.0'},\n",
       " 'mk07.txt': {'Separation': '0.0', 'Balance': '139.0', 'Makespan': '153.0'},\n",
       " 'mk08.txt': {'Separation': '626.0', 'Balance': '523.0', 'Makespan': '542.0'},\n",
       " 'mk09.txt': {'Separation': '6745.0', 'Balance': '299.0', 'Makespan': '315.0'},\n",
       " 'mk10.txt': {'Separation': '3358.0', 'Balance': '189.0', 'Makespan': '241.0'},\n",
       " 'mk11.txt': {'Separation': '0.0', 'Balance': '609.0', 'Makespan': '669.0'},\n",
       " 'mk12.txt': {'Separation': '0.0', 'Balance': '508.0', 'Makespan': '540.0'},\n",
       " 'mk13.txt': {'Separation': '1021.0', 'Balance': '382.0', 'Makespan': '453.0'},\n",
       " 'mk14.txt': {'Separation': '1008.0', 'Balance': '694.0', 'Makespan': '727.0'},\n",
       " 'mk15.txt': {'Separation': '488.0', 'Balance': '332.0', 'Makespan': '389.0'}}"
      ]
     },
     "execution_count": 56,
     "metadata": {},
     "output_type": "execute_result"
    }
   ],
   "source": [
    "for instance in best[0].base_evaluation:\n",
    "    for o in ['Separation']"
   ]
  }
 ],
 "metadata": {
  "kernelspec": {
   "display_name": "Python 3",
   "language": "python",
   "name": "python3"
  },
  "language_info": {
   "codemirror_mode": {
    "name": "ipython",
    "version": 3
   },
   "file_extension": ".py",
   "mimetype": "text/x-python",
   "name": "python",
   "nbconvert_exporter": "python",
   "pygments_lexer": "ipython3",
   "version": "3.11.9"
  }
 },
 "nbformat": 4,
 "nbformat_minor": 2
}
